{
 "cells": [
  {
   "cell_type": "markdown",
   "metadata": {},
   "source": [
    "### Exercices - uopy"
   ]
  },
  {
   "cell_type": "markdown",
   "metadata": {},
   "source": [
    "<h3>Question 1</h3> <em>Easy - <a href=\"https://docs.python.org/3.4/tutorial/datastructures.html\" target=\"_blank\">usage of dir() or list data structures</a></em> \n",
    "\n",
    "I have a list of students.\n",
    "What function(s) do you think I can use to add one more student\n",
    "in that list\n"
   ]
  },
  {
   "cell_type": "code",
   "execution_count": 10,
   "metadata": {
    "collapsed": true
   },
   "outputs": [],
   "source": [
    "students = ['Ange', 'Dan', 'Julie'] "
   ]
  },
  {
   "cell_type": "markdown",
   "metadata": {},
   "source": [
    "<p>\n",
    "students = ['Ange', 'Dan', 'Julie']\n",
    "<br/>\n",
    "#I want my list to look like this <br/>\n",
    "#['Ange', 'Dan', 'Julie', 'Miro']<br/>\n",
    "\n",
    "</p>"
   ]
  },
  {
   "cell_type": "code",
   "execution_count": 12,
   "metadata": {
    "collapsed": false
   },
   "outputs": [
    {
     "data": {
      "text/plain": [
       "['Ange', 'Dan', 'Julie']"
      ]
     },
     "execution_count": 12,
     "metadata": {},
     "output_type": "execute_result"
    }
   ],
   "source": [
    "#But I don't know what function can I use to add 'Miro' into my list\n",
    "students"
   ]
  },
  {
   "cell_type": "markdown",
   "metadata": {},
   "source": [
    "<hr/>"
   ]
  },
  {
   "cell_type": "markdown",
   "metadata": {},
   "source": [
    "<h3>Question 2 </h3> <em>Easy</em> <p> <em> dict --- usage of <a href=\"https://docs.python.org/3.4/tutorial/datastructures.html#dictionaries\" target=\"_blank\"> dict.get('') or dict['']</a></em> </p>\n",
    "I have this dictionnary\n",
    "\n",
    "<pre>\n",
    "student = {\n",
    "\t\t'id':      3456, \n",
    "\t\t'name':    'Judy June', \n",
    "\t\t'courses': ['COM4566', 'ADM9873', 'ISI4560']\n",
    "}\n",
    "</pre>\n",
    "\n",
    "I want to know how many courses this students have."
   ]
  },
  {
   "cell_type": "code",
   "execution_count": 7,
   "metadata": {
    "collapsed": false
   },
   "outputs": [
    {
     "data": {
      "text/plain": [
       "{'courses': ['COM4566', 'ADM9873', 'ISI4560'], 'id': 3456, 'name': 'Judy June'}"
      ]
     },
     "execution_count": 7,
     "metadata": {},
     "output_type": "execute_result"
    }
   ],
   "source": [
    "student = {'id': 3456, 'name':'Judy June', 'courses': ['COM4566', 'ADM9873', 'ISI4560']}\n",
    "student"
   ]
  },
  {
   "cell_type": "markdown",
   "metadata": {},
   "source": [
    "<hr/>"
   ]
  },
  {
   "cell_type": "markdown",
   "metadata": {},
   "source": [
    "<h3>Question 3 </h3> <em>Intermediate</em> <p>I have this variables list I want to know how many students are part-time\n",
    "students. </p>\n"
   ]
  },
  {
   "cell_type": "code",
   "execution_count": 9,
   "metadata": {
    "collapsed": true
   },
   "outputs": [],
   "source": [
    "students = [\n",
    "{\n",
    "\t\t'id':      4566, \n",
    "\t\t'name':    'Taiwo June', \n",
    "\t\t'courses': ['COM4566', 'ADM9873', 'ISI4560', 'HME4520', 'MNG093', 'HMX0283'],\n",
    "\t\t'grades':  ['A', 'B+', 'C+', 'A-', 'abandon']\n",
    "},\n",
    "{\n",
    "\t\t'id':      9586, \n",
    "\t\t'name':    'Julie Tremblay', \n",
    "\t\t'courses': ['COM4566', 'ADM9873', 'ISI4560', 'HMX0283', 'BIO2394'],\n",
    "\t\t'grades':  ['A+', 'A+', 'A', 'A+', 'A-']\n",
    "},\n",
    "{\n",
    "\t\t'id':      2839, \n",
    "\t\t'name':    'Judy June', \n",
    "\t\t'courses': ['COM4566'],\n",
    "\t\t'grades':  ['A+']\n",
    "},\n",
    "{\n",
    "\t\t'id':      4950, \n",
    "\t\t'name':    'Judy June', \n",
    "\t\t'courses': ['COM4566', 'ADM9873', 'ISI4560'],\n",
    "\t\t'grades':  ['A', 'C+', 'A+']\n",
    "}\n",
    "]"
   ]
  },
  {
   "cell_type": "code",
   "execution_count": null,
   "metadata": {
    "collapsed": true
   },
   "outputs": [],
   "source": [
    "#6-a What type of Objects the 'students' variable is. Is it a Dict or a list?"
   ]
  },
  {
   "cell_type": "code",
   "execution_count": null,
   "metadata": {
    "collapsed": true
   },
   "outputs": [],
   "source": [
    "#6-b Is this variable an iterable?"
   ]
  },
  {
   "cell_type": "code",
   "execution_count": null,
   "metadata": {
    "collapsed": true
   },
   "outputs": [],
   "source": [
    "#6-c Write a script that will determine how many students are part-time students \n",
    "#To be part-time the students needs to have less than 4 courses."
   ]
  },
  {
   "cell_type": "markdown",
   "metadata": {},
   "source": [
    "<hr/>"
   ]
  },
  {
   "cell_type": "markdown",
   "metadata": {},
   "source": [
    "## Do one of the following question (4, 5 or 6)"
   ]
  },
  {
   "cell_type": "markdown",
   "metadata": {},
   "source": [
    "<h3>Question 4 </h3> <em>Intermediate</em> <p> Write a function \"create_pyramid(...)\" which takes a single integer argument \"height\" and displays a \"pyramid\" of this height made up of of \"*\" characters on the screen. <em>i.e.: create_pyramid(5)</em> </p>\n",
    "\n",
    "<img src=\"img/pyramid.jpg\"/>"
   ]
  },
  {
   "cell_type": "markdown",
   "metadata": {},
   "source": [
    "<h3>Question 5 </h3> <em>Difficult</em> <p> Write a function \"create_pyramid(...)\" which takes a single integer argument \"height\" and displays a \"pyramid\" of this height made up of of \"number\" characters on the screen. <em>i.e.: create_pyramid(5)</em> </p>\n",
    "\n",
    "<img src=\"img/pyramid2.jpg\"/>"
   ]
  },
  {
   "cell_type": "markdown",
   "metadata": {},
   "source": [
    "<h3>Question 6 </h3> <em>Intermediate</em> <p> Write a function \"create_pyramid(...)\" which takes a single <strong>string</strong> argument \"sentence\" and displays a \"pyramid\" of this sentence made up of \"the sentence\" characters on the screen. <em>i.e.: create_pyramid(\"Hello Everybody!\")</em> </p>\n",
    "\n",
    "<img src=\"img/pyramid3.jpg\"/>"
   ]
  },
  {
   "cell_type": "markdown",
   "metadata": {},
   "source": [
    "<hr/>"
   ]
  },
  {
   "cell_type": "markdown",
   "metadata": {},
   "source": [
    "<h3>Question 7 </h3> <em>Difficult - reading files </em> <p> The manager at Shopify wants to know how many items where sold today with the USD currency and what was the total purchases of the day for prices in EUR. \n",
    "The following file contains all the transactions. </p>\n",
    "\n"
   ]
  },
  {
   "cell_type": "code",
   "execution_count": 14,
   "metadata": {
    "collapsed": true
   },
   "outputs": [],
   "source": [
    "with open('data/shopify.txt') as f:\n",
    "    content = f.readlines()"
   ]
  },
  {
   "cell_type": "code",
   "execution_count": null,
   "metadata": {
    "collapsed": true
   },
   "outputs": [],
   "source": []
  },
  {
   "cell_type": "markdown",
   "metadata": {},
   "source": [
    "<hr/>"
   ]
  },
  {
   "cell_type": "markdown",
   "metadata": {},
   "source": [
    "## Do one of the following question (8 or 9)"
   ]
  },
  {
   "cell_type": "markdown",
   "metadata": {},
   "source": [
    "<h3>Question 8</h3> <em>Difficult - reading files </em> <p> \n",
    "The manager of shopify wants you to create an Excel file with a bar chart of the sales of the content of the shopify.txt file </p> \n",
    "\n",
    "Use this Python library: <a href=\"https://xlsxwriter.readthedocs.io/index.html\">XlsxWriter </a> on this <a href=\"https://xlsxwriter.readthedocs.io/working_with_charts.html\"> section</a>"
   ]
  },
  {
   "cell_type": "code",
   "execution_count": null,
   "metadata": {
    "collapsed": true
   },
   "outputs": [],
   "source": []
  },
  {
   "cell_type": "markdown",
   "metadata": {},
   "source": [
    "<h3>Question 9</h3> <em>Difficult - reading files </em> <p> \n",
    "The manager of shopify wants you to send him by email the total sales for USD. </p> \n",
    "\n",
    "Use a temporary mail service: <a href=\"https://10minutemail.com/\">10minutemail </a> use the smtp library or envelopes"
   ]
  },
  {
   "cell_type": "code",
   "execution_count": null,
   "metadata": {
    "collapsed": true
   },
   "outputs": [],
   "source": []
  }
 ],
 "metadata": {
  "anaconda-cloud": {},
  "kernelspec": {
   "display_name": "Python [Root]",
   "language": "python",
   "name": "Python [Root]"
  },
  "language_info": {
   "codemirror_mode": {
    "name": "ipython",
    "version": 3
   },
   "file_extension": ".py",
   "mimetype": "text/x-python",
   "name": "python",
   "nbconvert_exporter": "python",
   "pygments_lexer": "ipython3",
   "version": "3.5.2"
  }
 },
 "nbformat": 4,
 "nbformat_minor": 0
}
