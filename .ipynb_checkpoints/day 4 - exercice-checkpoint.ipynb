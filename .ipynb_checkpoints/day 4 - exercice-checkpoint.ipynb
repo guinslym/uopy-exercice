{
 "cells": [
  {
   "cell_type": "markdown",
   "metadata": {},
   "source": [
    "### Exercices - uopy"
   ]
  },
  {
   "cell_type": "markdown",
   "metadata": {},
   "source": [
    "<h3>#Question 5 </h3> <em>Intermediate</em> <p> <em> dict --- usage of  dict.get('') or dict['']</em> </p>\n",
    "I have this dictionnary\n",
    "\n",
    "<pre>\n",
    "student = {\n",
    "\t\t'id':      3456, \n",
    "\t\t'name':    'Judy June', \n",
    "\t\t'courses': ['COM4566', 'ADM9873', 'ISI4560']\n",
    "}\n",
    "</pre>\n",
    "\n",
    "I want to know how many courses this students have."
   ]
  },
  {
   "cell_type": "code",
   "execution_count": null,
   "metadata": {
    "collapsed": true
   },
   "outputs": [],
   "source": []
  },
  {
   "cell_type": "markdown",
   "metadata": {},
   "source": [
    "<h3>Question 1 </h3> <em>Intermediate</em> <p> Write a function \"create_pyramid(...)\" which takes a single integer argument \"height\" and displays a \"pyramid\" of this height made up of of \"*\" characters on the screen. <em>i.e.: create_pyramid(5)</em> </p>\n",
    "\n"
   ]
  },
  {
   "cell_type": "markdown",
   "metadata": {},
   "source": [
    "<h3>Question 2 </h3> <em>Difficult</em> <p> Write a function \"create_pyramid(...)\" which takes a single integer argument \"height\" and displays a \"pyramid\" of this height made up of of \"number\" characters on the screen. <em>i.e.: create_pyramid(5)</em> </p>\n",
    "\n",
    "<img src=\"img/pyramid2.jpg\"/>"
   ]
  },
  {
   "cell_type": "markdown",
   "metadata": {},
   "source": [
    "<h3>Question 3 </h3> <em>Intermediate</em> <p> Write a function \"create_pyramid(...)\" which takes a single <strong>string</strong> argument \"sentence\" and displays a \"pyramid\" of this sentence made up of \"the sentence\" characters on the screen. <em>i.e.: create_pyramid(\"Hello Everybody!\")</em> </p>\n",
    "\n",
    "<img src=\"img/pyramid3.jpg\"/>"
   ]
  },
  {
   "cell_type": "markdown",
   "metadata": {},
   "source": [
    "<h3>Question 5 </h3> <em>Easy</em> \n",
    "\n",
    "I have a list of students.\n",
    "What function(s) do you think I can use to add one more student\n",
    "in that list\n"
   ]
  },
  {
   "cell_type": "code",
   "execution_count": 4,
   "metadata": {
    "collapsed": false
   },
   "outputs": [],
   "source": [
    "students = ['Ange', 'Dan', 'Julie'] "
   ]
  },
  {
   "cell_type": "markdown",
   "metadata": {},
   "source": [
    "<p>\n",
    "students = ['Ange', 'Dan', 'Julie']\n",
    "<br/>\n",
    "#I want my list to look like this <br/>\n",
    "#['Ange', 'Dan', 'Julie', 'Miro']<br/>\n",
    "#But I don't know what function can I use to add 'Miro' into my list\n",
    "</p>"
   ]
  },
  {
   "cell_type": "code",
   "execution_count": null,
   "metadata": {
    "collapsed": true
   },
   "outputs": [],
   "source": []
  }
 ],
 "metadata": {
  "anaconda-cloud": {},
  "kernelspec": {
   "display_name": "Python [Root]",
   "language": "python",
   "name": "Python [Root]"
  },
  "language_info": {
   "codemirror_mode": {
    "name": "ipython",
    "version": 3
   },
   "file_extension": ".py",
   "mimetype": "text/x-python",
   "name": "python",
   "nbconvert_exporter": "python",
   "pygments_lexer": "ipython3",
   "version": "3.5.2"
  }
 },
 "nbformat": 4,
 "nbformat_minor": 0
}
